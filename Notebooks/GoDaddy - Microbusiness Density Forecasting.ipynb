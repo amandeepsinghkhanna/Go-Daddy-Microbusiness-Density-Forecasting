{
 "cells": [
  {
   "cell_type": "code",
   "execution_count": null,
   "id": "8f2a0071-1787-4f8d-9952-879f0b79ff68",
   "metadata": {},
   "outputs": [],
   "source": [
    "# Standard Python Modules:\n",
    "import os\n",
    "from datetime import datetime\n",
    "\n",
    "\n",
    "# Data Wrangling:\n",
    "import numpy as np\n",
    "import pandas as pd\n",
    "\n",
    "\n",
    "# Machine Learning:\n",
    "\n",
    "# Feature/Training Enhancements:\n",
    "from sklearn.impute import KNNImputer\n",
    "from sklearn.model_selection import GridSearchCV\n",
    "from sklearn.model_selection import cross_validate\n",
    "from sklearn.model_selection import train_test_split\n",
    "\n",
    "\n",
    "# Models:\n",
    "from sklearn.ensemble import RandomForestRegressor\n",
    "\n",
    "\n",
    "# Model Performance Metrics:\n",
    "from sklearn.metrics import mean_squared_error\n",
    "from sklearn.metrics import mean_absolute_error\n",
    "from sklearn.metrics import explained_variance_score\n",
    "\n",
    "\n",
    "# Deep Learning:\n",
    "from tensorflow.keras.models import Sequential\n",
    "from tensorflow.keras.layers import Dense"
   ]
  },
  {
   "cell_type": "code",
   "execution_count": null,
   "id": "9c233d83-a17f-4c53-bd63-4e144afdb5fb",
   "metadata": {},
   "outputs": [],
   "source": [
    "pd.set_option('display.max_columns', None)"
   ]
  },
  {
   "cell_type": "code",
   "execution_count": null,
   "id": "58cdef50-4bc2-47d1-9aff-78ad0913725a",
   "metadata": {},
   "outputs": [],
   "source": [
    "train = pd.read_csv(\"train.csv\")\n",
    "train.columns = [feature_name.upper() for feature_name in train.columns]\n",
    "train.FIRST_DAY_OF_MONTH = pd.to_datetime(train.FIRST_DAY_OF_MONTH, format=\"%Y-%m-%d\")\n",
    "train[\"YEAR\"] = train.FIRST_DAY_OF_MONTH.dt.year\n",
    "train[\"MONTH\"] = train.FIRST_DAY_OF_MONTH.dt.month\n",
    "train[\"STATE_FIPS_CODE\"] = train.CFIPS.astype(str).apply(lambda x: x[:2])\n",
    "train[\"COUNTY_FIPS_CODE\"] = train.CFIPS.astype(str).apply(lambda x: x[1:])\n",
    "del (\n",
    "    train[\"COUNTY\"],\n",
    "    train[\"STATE\"],\n",
    "    train[\"ROW_ID\"],\n",
    "    train[\"ACTIVE\"],\n",
    "    train[\"FIRST_DAY_OF_MONTH\"],\n",
    ")\n",
    "print(train.shape, \"(ROWS, COLUMNS)\")\n",
    "train.head(3)"
   ]
  },
  {
   "cell_type": "code",
   "execution_count": null,
   "id": "568be260-68b5-40b4-b2da-baaa7aaae185",
   "metadata": {},
   "outputs": [],
   "source": [
    "test = pd.read_csv(\"test.csv\")\n",
    "test.columns = [feature_name.upper() for feature_name in test.columns]\n",
    "test.FIRST_DAY_OF_MONTH = pd.to_datetime(test.FIRST_DAY_OF_MONTH, format=\"%Y-%m-%d\")\n",
    "test[\"YEAR\"] = test.FIRST_DAY_OF_MONTH.dt.year\n",
    "test[\"MONTH\"] = test.FIRST_DAY_OF_MONTH.dt.month\n",
    "test[\"STATE_FIPS_CODE\"] = test.CFIPS.astype(str).apply(lambda x: x[:2])\n",
    "test[\"COUNTY_FIPS_CODE\"] = test.CFIPS.astype(str).apply(lambda x: x[1:])\n",
    "del test[\"ROW_ID\"], test[\"FIRST_DAY_OF_MONTH\"]\n",
    "print(test.shape, \"(ROWS, COLUMNS)\")\n",
    "test.head(3)"
   ]
  },
  {
   "cell_type": "code",
   "execution_count": null,
   "id": "18b62d34-9754-4a3e-a196-2d6443aa6b1f",
   "metadata": {},
   "outputs": [],
   "source": [
    "census_starter = pd.read_csv(\"census_starter.csv\")\n",
    "census_starter.columns = [\n",
    "    feature_name.upper() for feature_name in census_starter.columns\n",
    "]\n",
    "census_starter.head(3)"
   ]
  },
  {
   "cell_type": "code",
   "execution_count": null,
   "id": "fdefcc3c-c732-467d-8d0e-b6403c6a98f0",
   "metadata": {},
   "outputs": [],
   "source": [
    "imputed_census_starter = pd.DataFrame(\n",
    "    KNNImputer(n_neighbors=5).fit_transform(census_starter),\n",
    "    columns=list(census_starter.columns),\n",
    ")\n",
    "imputed_census_starter.head(3)"
   ]
  },
  {
   "cell_type": "code",
   "execution_count": null,
   "id": "54f17304-5557-4076-8710-bd99d19e9996",
   "metadata": {},
   "outputs": [],
   "source": [
    "pd.concat(\n",
    "    [\n",
    "        census_starter.mean().rename(\"ORIGINAL_MEAN\"),\n",
    "        imputed_census_starter.mean().rename(\"IMPUTED_MEAN\"),\n",
    "        census_starter.std().rename(\"ORIGINAL_SD\"),\n",
    "        imputed_census_starter.std().rename(\"IMPUTED_SD\"),\n",
    "    ],\n",
    "    axis=1,\n",
    ")"
   ]
  },
  {
   "cell_type": "code",
   "execution_count": null,
   "id": "3f9a3056-e4f1-4f6a-b4e3-d6bdae165093",
   "metadata": {},
   "outputs": [],
   "source": [
    "del census_starter"
   ]
  },
  {
   "cell_type": "code",
   "execution_count": null,
   "id": "47e87c49-177c-4331-a2d0-fd342893769c",
   "metadata": {},
   "outputs": [],
   "source": [
    "print(train.shape)\n",
    "train = pd.merge(left=train, right=imputed_census_starter, on=[\"CFIPS\"], how=\"inner\")\n",
    "print(train.shape)\n",
    "train.head(3)"
   ]
  },
  {
   "cell_type": "code",
   "execution_count": null,
   "id": "53617769-dc39-455d-ad4a-ea5c0a16c1f1",
   "metadata": {},
   "outputs": [],
   "source": [
    "print(test.shape)\n",
    "test = pd.merge(left=test, right=imputed_census_starter, on=[\"CFIPS\"], how=\"inner\")\n",
    "print(test.shape)\n",
    "test.head(3)"
   ]
  },
  {
   "cell_type": "code",
   "execution_count": null,
   "id": "9031ffdc-7f72-4d40-8621-b381b4954801",
   "metadata": {},
   "outputs": [],
   "source": [
    "train.STATE_FIPS_CODE.nunique(), test.STATE_FIPS_CODE.nunique()"
   ]
  },
  {
   "cell_type": "code",
   "execution_count": null,
   "id": "6f1a2c15-1c75-4365-866a-772d4b96f7b6",
   "metadata": {},
   "outputs": [],
   "source": [
    "print(train.shape)\n",
    "train = pd.concat(\n",
    "    [\n",
    "        train,\n",
    "        pd.get_dummies(\n",
    "            train[\"STATE_FIPS_CODE\"], prefix=\"STATE_FIPS_CODE_\", drop_first=True\n",
    "        ),\n",
    "    ],\n",
    "    axis=1,\n",
    ")\n",
    "del train[\"STATE_FIPS_CODE\"]\n",
    "print(train.shape)"
   ]
  },
  {
   "cell_type": "code",
   "execution_count": null,
   "id": "58ef65dd-00f7-4dc9-83ed-21cc223a5bc7",
   "metadata": {},
   "outputs": [],
   "source": [
    "print(test.shape)\n",
    "test = pd.concat(\n",
    "    [\n",
    "        test,\n",
    "        pd.get_dummies(\n",
    "            test[\"STATE_FIPS_CODE\"], prefix=\"STATE_FIPS_CODE_\", drop_first=True\n",
    "        ),\n",
    "    ],\n",
    "    axis=1,\n",
    ")\n",
    "del test[\"STATE_FIPS_CODE\"]\n",
    "print(test.shape)"
   ]
  },
  {
   "cell_type": "code",
   "execution_count": null,
   "id": "c0a8bb09-9aca-43a0-868b-02e7e36db8d6",
   "metadata": {},
   "outputs": [],
   "source": [
    "feature_remove_list = [\"CFIPS\", \"MICROBUSINESS_DENSITY\"]\n",
    "\n",
    "X = train[[f for f in train.columns if f not in feature_remove_list]]\n",
    "y = train[\"MICROBUSINESS_DENSITY\"]\n",
    "\n",
    "X_train, X_test, y_train, y_test = train_test_split(\n",
    "    X, y, test_size=0.33, random_state=42\n",
    ")"
   ]
  },
  {
   "cell_type": "code",
   "execution_count": null,
   "id": "b538719b-a84e-405f-b7ad-0c32a43f4545",
   "metadata": {},
   "outputs": [],
   "source": [
    "random_forest_estimator = RandomForestRegressor(\n",
    "    n_estimators=2,\n",
    "    criterion=\"squared_error\",\n",
    "    max_depth=4,\n",
    "    min_samples_split=0.01,\n",
    "    min_samples_leaf=0.09,\n",
    "    min_weight_fraction_leaf=0.0,\n",
    "    max_features=1.0,\n",
    "    max_leaf_nodes=None,\n",
    "    min_impurity_decrease=0.0,\n",
    "    bootstrap=True,\n",
    "    oob_score=False,\n",
    "    n_jobs=-1,\n",
    "    random_state=1024,\n",
    "    verbose=0,\n",
    "    warm_start=False,\n",
    "    ccp_alpha=0.0,\n",
    "    max_samples=None,\n",
    ").fit(X_train, y_train)"
   ]
  },
  {
   "cell_type": "code",
   "execution_count": null,
   "id": "0c5fce6e-e7af-4a86-89ed-d741d085f784",
   "metadata": {},
   "outputs": [],
   "source": [
    "training_metrics = pd.DataFrame({\n",
    "    'ACTUAL': y_train,\n",
    "    'PREDICTED': random_forest_estimator.predict(X_train)\n",
    "})\n",
    "\n",
    "test_metrics = pd.DataFrame({\n",
    "    'ACTUAL': y_test,\n",
    "    'PREDICTED': random_forest_estimator.predict(X_test)\n",
    "})"
   ]
  },
  {
   "cell_type": "code",
   "execution_count": null,
   "id": "8d806d53-fba5-4538-b26e-e3836d40c367",
   "metadata": {},
   "outputs": [],
   "source": [
    "print(\n",
    "    'EXPLAINED_VARIANCE_TRAIN:', \n",
    "    explained_variance_score(training_metrics['ACTUAL'], training_metrics['PREDICTED']),\n",
    "    '\\nEXPLAINED_VARIANCE_TEST:', \n",
    "    explained_variance_score(test_metrics['ACTUAL'], test_metrics['PREDICTED'])\n",
    ")"
   ]
  },
  {
   "cell_type": "code",
   "execution_count": null,
   "id": "4de02f73-86b5-43a3-87f2-e925faabe504",
   "metadata": {},
   "outputs": [],
   "source": [
    "print(\n",
    "    'MSE:', \n",
    "    mean_squared_error(training_metrics['ACTUAL'], training_metrics['PREDICTED']),\n",
    "    '\\nMSE:', \n",
    "    mean_squared_error(test_metrics['ACTUAL'], test_metrics['PREDICTED'])\n",
    ")"
   ]
  },
  {
   "cell_type": "code",
   "execution_count": 24,
   "id": "14447e22-b089-4ae3-9469-38070e84a8f7",
   "metadata": {},
   "outputs": [
    {
     "data": {
      "text/html": [
       "<div>\n",
       "<style scoped>\n",
       "    .dataframe tbody tr th:only-of-type {\n",
       "        vertical-align: middle;\n",
       "    }\n",
       "\n",
       "    .dataframe tbody tr th {\n",
       "        vertical-align: top;\n",
       "    }\n",
       "\n",
       "    .dataframe thead th {\n",
       "        text-align: right;\n",
       "    }\n",
       "</style>\n",
       "<table border=\"1\" class=\"dataframe\">\n",
       "  <thead>\n",
       "    <tr style=\"text-align: right;\">\n",
       "      <th></th>\n",
       "      <th>row_id</th>\n",
       "      <th>microbusiness_density</th>\n",
       "    </tr>\n",
       "  </thead>\n",
       "  <tbody>\n",
       "    <tr>\n",
       "      <th>0</th>\n",
       "      <td>1001_2022-11-01</td>\n",
       "      <td>4.654223</td>\n",
       "    </tr>\n",
       "    <tr>\n",
       "      <th>1</th>\n",
       "      <td>1003_2022-11-01</td>\n",
       "      <td>4.654223</td>\n",
       "    </tr>\n",
       "    <tr>\n",
       "      <th>2</th>\n",
       "      <td>1005_2022-11-01</td>\n",
       "      <td>4.654223</td>\n",
       "    </tr>\n",
       "  </tbody>\n",
       "</table>\n",
       "</div>"
      ],
      "text/plain": [
       "            row_id  microbusiness_density\n",
       "0  1001_2022-11-01               4.654223\n",
       "1  1003_2022-11-01               4.654223\n",
       "2  1005_2022-11-01               4.654223"
      ]
     },
     "execution_count": 24,
     "metadata": {},
     "output_type": "execute_result"
    }
   ],
   "source": [
    "submission = pd.read_csv('test.csv')\n",
    "submission['microbusiness_density'] = random_forest_estimator.predict(test[[f for f in test.columns if f!='CFIPS']])\n",
    "del submission['cfips'], submission['first_day_of_month']\n",
    "submission.to_csv('rf_submission_02.csv', index=False)\n",
    "submission.head(3)"
   ]
  },
  {
   "cell_type": "code",
   "execution_count": null,
   "id": "78026a95-4ed0-45d6-b918-48ebad061ef9",
   "metadata": {},
   "outputs": [],
   "source": [
    "model = Sequential()\n",
    "model.add(Dense(100, X_train.shape[0], activation='relu'))\n",
    "model.add(Dense(50, activation='relu'))\n",
    "model.add(Dense(100, activation='relu'))\n",
    "model.add(Dense(1, activation='linear'))\n",
    "model.summary()"
   ]
  },
  {
   "cell_type": "code",
   "execution_count": null,
   "id": "f7d6a374-e911-44d6-88fa-88274eae7897",
   "metadata": {},
   "outputs": [],
   "source": [
    "model.compile(loss='mse', optimizer='adam', metrics=['mse','mae'])"
   ]
  },
  {
   "cell_type": "code",
   "execution_count": null,
   "id": "7bfc57fd-33c9-493a-b5c2-ee2914dd10c2",
   "metadata": {},
   "outputs": [],
   "source": [
    "history = model.fit(X_train, y_train, epochs=150, batch_size=50,  verbose=1, validation_split=0.3)"
   ]
  },
  {
   "cell_type": "code",
   "execution_count": null,
   "id": "f65cdc7d-5685-4450-9098-3ffd765c4ad5",
   "metadata": {},
   "outputs": [],
   "source": [
    "print(history.history.keys())\n",
    "# \"Loss\"\n",
    "plt.plot(history.history['loss'])\n",
    "plt.plot(history.history['val_loss'])\n",
    "plt.title('model loss')\n",
    "plt.ylabel('loss')\n",
    "plt.xlabel('epoch')\n",
    "plt.legend(['train', 'validation'], loc='upper left')\n",
    "plt.show()"
   ]
  },
  {
   "cell_type": "code",
   "execution_count": null,
   "id": "f7f180a4-3f5e-4073-84a6-0062d8e0f12c",
   "metadata": {},
   "outputs": [],
   "source": []
  },
  {
   "cell_type": "code",
   "execution_count": null,
   "id": "c667be45-1987-4add-b20b-c7ddf274eefd",
   "metadata": {},
   "outputs": [],
   "source": []
  },
  {
   "cell_type": "code",
   "execution_count": null,
   "id": "a83a3faf-7970-4d2c-a195-059cb70afc8d",
   "metadata": {},
   "outputs": [],
   "source": []
  },
  {
   "cell_type": "code",
   "execution_count": null,
   "id": "cff61c7e-8ba9-41d1-b367-bda23e4a605d",
   "metadata": {},
   "outputs": [],
   "source": []
  },
  {
   "cell_type": "code",
   "execution_count": null,
   "id": "e2a7b922-27d1-4111-9401-8cf21eb33bfc",
   "metadata": {},
   "outputs": [],
   "source": []
  },
  {
   "cell_type": "code",
   "execution_count": null,
   "id": "ff3154ae-862a-4d35-ab14-bbd0ceea5a75",
   "metadata": {},
   "outputs": [],
   "source": []
  },
  {
   "cell_type": "code",
   "execution_count": null,
   "id": "88b5b3fd-6a73-4ba6-9e7f-0710d1110e6e",
   "metadata": {},
   "outputs": [],
   "source": []
  },
  {
   "cell_type": "code",
   "execution_count": null,
   "id": "327545b9-457e-45b0-af88-5942bab45c89",
   "metadata": {},
   "outputs": [],
   "source": []
  },
  {
   "cell_type": "code",
   "execution_count": null,
   "id": "eee766bc-afe9-4c31-a222-9f5ab456054d",
   "metadata": {},
   "outputs": [],
   "source": []
  },
  {
   "cell_type": "code",
   "execution_count": null,
   "id": "40c8645b-1bfd-410b-a2e6-357cc4fcc6b8",
   "metadata": {},
   "outputs": [],
   "source": []
  },
  {
   "cell_type": "code",
   "execution_count": null,
   "id": "4df7b796-ce1e-4050-a53c-8ef4b540d326",
   "metadata": {},
   "outputs": [],
   "source": []
  },
  {
   "cell_type": "code",
   "execution_count": null,
   "id": "b55d7341-6f77-434b-aaf3-1d6576d66a4e",
   "metadata": {},
   "outputs": [],
   "source": []
  },
  {
   "cell_type": "code",
   "execution_count": null,
   "id": "cb327086-8c47-4c27-8af1-d79d82f7649a",
   "metadata": {},
   "outputs": [],
   "source": []
  },
  {
   "cell_type": "code",
   "execution_count": null,
   "id": "8a843bff-493d-4385-b5a2-a1bc9da7d5ee",
   "metadata": {},
   "outputs": [],
   "source": []
  },
  {
   "cell_type": "markdown",
   "id": "44f56a23-fd14-46bc-af02-60203c83ef17",
   "metadata": {},
   "source": [
    "A KAP (Knowledge, Attitude, Practice) survey is a type of survey that is used to assess people's knowledge, attitudes, and practices related to a specific topic or issue. Here is a general overview of the steps involved in analyzing a KAP survey:\n",
    "\n",
    "    Check the response rate: Look at the response rate to see how many people completed the survey out of the total number of people who were invited to participate. A high response rate indicates that the sample is likely to be representative of the population.\n",
    "\n",
    "    Review the survey questions: Review the survey questions to make sure that they are clear and relevant to the topic of the survey.\n",
    "\n",
    "    Prepare the data: Prepare the data by cleaning and coding it, so that it is ready for analysis.\n",
    "\n",
    "    Summarize the data: Summarize the data by calculating descriptive statistics such as means, frequencies, and percentages. This will give you an overall picture of the data.\n",
    "\n",
    "    Analyze the data: Analyze the data using appropriate statistical tests such as chi-square or t-tests to identify any significant differences between subgroups or to test hypotheses.\n",
    "\n",
    "    Interpret the results: Interpret the results by comparing them to the objectives of the survey and the relevant literature. Also, consider the limitations of the survey and the potential impact of any biases or confounding variables.\n",
    "\n",
    "    Communicate the findings: Communicate the findings by creating tables, figures, and reports that present the results in a clear and concise way."
   ]
  },
  {
   "cell_type": "code",
   "execution_count": null,
   "id": "728b9502-bef4-497b-97e4-2a07f4827be2",
   "metadata": {},
   "outputs": [],
   "source": []
  }
 ],
 "metadata": {
  "kernelspec": {
   "display_name": "Python 3",
   "language": "python",
   "name": "python3"
  },
  "language_info": {
   "codemirror_mode": {
    "name": "ipython",
    "version": 3
   },
   "file_extension": ".py",
   "mimetype": "text/x-python",
   "name": "python",
   "nbconvert_exporter": "python",
   "pygments_lexer": "ipython3",
   "version": "3.10.6 (main, Aug 10 2022, 11:40:04) [GCC 11.3.0]"
  },
  "vscode": {
   "interpreter": {
    "hash": "916dbcbb3f70747c44a77c7bcd40155683ae19c65e1c03b4aa3499c5328201f1"
   }
  }
 },
 "nbformat": 4,
 "nbformat_minor": 5
}
